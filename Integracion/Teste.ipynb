{
 "cells": [
  {
   "cell_type": "code",
   "execution_count": 1,
   "metadata": {},
   "outputs": [
    {
     "name": "stdout",
     "output_type": "stream",
     "text": [
      "El máximo común divisor entre 12 y 6 es 6\n"
     ]
    }
   ],
   "source": [
    "#Ejercicio Integrador Python\n",
    "# Ejercicio 1- El maximo comun divisor\n",
    "\n",
    "def maximocd(divisor, dividendo):\n",
    "    while dividendo:\n",
    "        divisor, dividendo = dividendo, divisor % dividendo\n",
    "    return divisor\n",
    "\n",
    "num1 = int(input(\"Ingrese el primer número: \"))\n",
    "num2 = int(input(\"Ingrese el segundo número: \"))\n",
    "\n",
    "resultado = maximocd(num1, num2)\n",
    "print(f\"El máximo común divisor entre {num1} y {num2} es {resultado}\")\n"
   ]
  },
  {
   "cell_type": "code",
   "execution_count": 2,
   "metadata": {},
   "outputs": [
    {
     "name": "stdout",
     "output_type": "stream",
     "text": [
      "El mínimo común múltiplo entre 12 y 6 es 12\n"
     ]
    }
   ],
   "source": [
    "# Ejercicio 2- El maximo comun divisor\n",
    "\n",
    "def calcular_mcm(a, b):\n",
    "    # Calcula el producto de los dos números\n",
    "    producto = a * b\n",
    "    \n",
    "    # Encuentra el máximo común divisor usando la función gcd del módulo math\n",
    "    #from math import gcd\n",
    "    mcd = maximocd(a, b)\n",
    "    \n",
    "    # Calcula el mínimo común múltiplo dividiendo el producto entre el MCD\n",
    "    mcm = producto // mcd\n",
    "    \n",
    "    return mcm\n",
    "\n",
    "# Ejemplo de uso\n",
    "numero1 = 12\n",
    "numero2 = 6\n",
    "mcm = calcular_mcm(numero1, numero2)\n",
    "print(f\"El mínimo común múltiplo entre {numero1} y {numero2} es {mcm}\")"
   ]
  },
  {
   "cell_type": "code",
   "execution_count": 2,
   "metadata": {},
   "outputs": [
    {
     "name": "stdout",
     "output_type": "stream",
     "text": [
      "'cuantas': 1\n",
      "'veces': 1\n",
      "'las': 1\n",
      "'escribe': 1\n"
     ]
    }
   ],
   "source": [
    "# Ejercicio 3- Escribir un programa que reciba una cadena de caracteres y devuelva un diccionario \n",
    "# con cada palabra que contiene y la cantidad de veces que aparece (frecuencia).\n",
    "\n",
    "def contar_palabras(cadena):\n",
    "    palabras = cadena.split()  # Dividir la cadena en palabras\n",
    "    diccionario = {}\n",
    "    \n",
    "    for palabra in palabras:\n",
    "        palabra = palabra.lower()  # Convertir la palabra a minúsculas para considerar mayúsculas y minúsculas iguales\n",
    "        if palabra in diccionario:\n",
    "            diccionario[palabra] += 1\n",
    "        else:\n",
    "            diccionario[palabra] = 1\n",
    "    \n",
    "    return diccionario\n",
    "\n",
    "cadena = input(\"Ingrese una cadena de caracteres: \")\n",
    "resultado = contar_palabras(cadena)\n",
    "\n",
    "for palabra, frecuencia in resultado.items():\n",
    "    print(f\"'{palabra}': {frecuencia}\")\n"
   ]
  },
  {
   "cell_type": "code",
   "execution_count": 3,
   "metadata": {},
   "outputs": [
    {
     "name": "stdout",
     "output_type": "stream",
     "text": [
      "Diccionario de palabras y frecuencias:\n",
      "'caracteristicas': 1\n",
      "Palabra más repetida: 'caracteristicas' con frecuencia 1\n"
     ]
    }
   ],
   "source": [
    "# Ejercicio 4 - Escribir una función que reciba una cadena de caracteres y devuelva un diccionario \n",
    "# con cada palabra que contiene y la cantidad de veces que aparece (frecuencia). Escribir otra función \n",
    "# que reciba el diccionario generado con la función anterior y devuelva una tupla con la palabra más \n",
    "# repetida y su frecuencia.\n",
    "\n",
    "def contar_palabras(cadena):\n",
    "    palabras = cadena.split()  # Dividir la cadena en palabras\n",
    "    diccionario = {}\n",
    "    \n",
    "    for palabra in palabras:\n",
    "        palabra = palabra.lower()  # Convertir la palabra a minúsculas para considerar mayúsculas y minúsculas iguales\n",
    "        if palabra in diccionario:\n",
    "            diccionario[palabra] += 1\n",
    "        else:\n",
    "            diccionario[palabra] = 1\n",
    "    \n",
    "    return diccionario\n",
    "\n",
    "def palabra_mas_repetida(diccionario):\n",
    "    palabra_max = None\n",
    "    frecuencia_max = 0\n",
    "    \n",
    "    for palabra, frecuencia in diccionario.items():\n",
    "        if frecuencia > frecuencia_max:\n",
    "            palabra_max = palabra\n",
    "            frecuencia_max = frecuencia\n",
    "    \n",
    "    return palabra_max, frecuencia_max\n",
    "\n",
    "cadena = input(\"Ingrese una cadena de caracteres: \")\n",
    "resultado = contar_palabras(cadena)\n",
    "palabra, frecuencia = palabra_mas_repetida(resultado)\n",
    "\n",
    "print(\"Diccionario de palabras y frecuencias:\")\n",
    "for palabra, frecuencia in resultado.items():\n",
    "    print(f\"'{palabra}': {frecuencia}\")\n",
    "\n",
    "print(f\"Palabra más repetida: '{palabra}' con frecuencia {frecuencia}\")\n"
   ]
  },
  {
   "cell_type": "code",
   "execution_count": 4,
   "metadata": {},
   "outputs": [
    {
     "name": "stdout",
     "output_type": "stream",
     "text": [
      "Valor entero ingresado: 1898\n"
     ]
    }
   ],
   "source": [
    "# Ejercicio 5 - Sabiendo que ValueError es la excepción que se lanza cuando no podemos convertir una \n",
    "# cadena de texto en su valor numérico, escriba una función get_int() que lea un valor entero del usuario \n",
    "# y lo devuelva, iterando mientras el valor no sea correcto. Intente resolver el ejercicio tanto de manera \n",
    "# iterativa como recursiva.\n",
    "\n",
    "def get_int():\n",
    "    while True:\n",
    "        try:\n",
    "            valor = int(input(\"Ingrese un valor entero: \"))\n",
    "            return valor\n",
    "        except ValueError:\n",
    "            print(\"Error: Ingrese un valor entero válido.\")\n",
    "\n",
    "valor_entero = get_int()\n",
    "print(f\"Valor entero ingresado: {valor_entero}\")\n"
   ]
  },
  {
   "cell_type": "code",
   "execution_count": 1,
   "metadata": {},
   "outputs": [
    {
     "name": "stdout",
     "output_type": "stream",
     "text": [
      "Nombre: Juan\n",
      "Edad: 25\n",
      "DNI: 123456789\n",
      "Es mayor de edad: True\n"
     ]
    }
   ],
   "source": [
    "# Ejercicio 6 - Crear una clase llamada Persona. Sus atributos son: nombre, edad y DNI. Construya los siguientes métodos para la clase:\n",
    "#       Un constructor, donde los datos pueden estar vacíos.\n",
    "#           Los setters y getters para cada uno de los atributos. Hay que validar las entradas de datos.\n",
    "#                mostrar(): Muestra los datos de la persona.\n",
    "#                Es_mayor_de_edad(): Devuelve un valor lógico indicando si es mayor de edad.\n",
    "\n",
    "class Persona:\n",
    "    def __init__(self, nombre=\"\", edad=None, dni=\"\"):\n",
    "        self.nombre = nombre\n",
    "        self.edad = edad\n",
    "        self.dni = dni\n",
    "    \n",
    "    def get_nombre(self):\n",
    "        return self.nombre\n",
    "    \n",
    "    def set_nombre(self, nombre):\n",
    "        self.nombre = nombre\n",
    "    \n",
    "    def get_edad(self):\n",
    "        return self.edad\n",
    "    \n",
    "    def set_edad(self, edad):\n",
    "        if edad is not None and edad < 0:\n",
    "            print(\"Error: La edad debe ser un valor positivo.\")\n",
    "        else:\n",
    "            self.edad = edad\n",
    "    \n",
    "    def get_dni(self):\n",
    "        return self.dni\n",
    "    \n",
    "    def set_dni(self, dni):\n",
    "        if len(dni) != 9:\n",
    "            print(\"Error: El DNI debe tener 9 dígitos.\")\n",
    "        else:\n",
    "            self.dni = dni\n",
    "    \n",
    "    def mostrar(self):\n",
    "        print(f\"Nombre: {self.nombre}\")\n",
    "        print(f\"Edad: {self.edad}\")\n",
    "        print(f\"DNI: {self.dni}\")\n",
    "    \n",
    "    def es_mayor_de_edad(self):\n",
    "        return self.edad >= 18 if self.edad is not None else False\n",
    "\n",
    "# Crear una instancia de la clase Persona\n",
    "persona1 = Persona()\n",
    "persona1.set_nombre(\"Juan\")\n",
    "persona1.set_edad(25)\n",
    "persona1.set_dni(\"123456789\")\n",
    "persona1.mostrar()\n",
    "print(\"Es mayor de edad:\", persona1.es_mayor_de_edad())\n"
   ]
  },
  {
   "cell_type": "code",
   "execution_count": 16,
   "metadata": {},
   "outputs": [
    {
     "name": "stdout",
     "output_type": "stream",
     "text": [
      "Titular: Juan, DNI: 123456789\n",
      "Cantidad en la cuenta: 1000.00\n",
      "Titular: Juan, DNI: 123456789\n",
      "Cantidad en la cuenta: 1300.00\n"
     ]
    }
   ],
   "source": [
    "# Ejercicio 7- Crea una clase llamada Cuenta que tendrá los siguientes atributos: \n",
    "# titular (que es una persona) y cantidad (puede tener decimales). \n",
    "# El titular será obligatorio y la cantidad es opcional. \n",
    "# Crear los siguientes métodos para la clase:  Un constructor, donde los datos pueden estar vacíos.\n",
    "#  Los setters y getters para cada uno de los atributos. El atributo no se puede modificar directamente, \n",
    "# sólo ingresando o retirando dinero.  mostrar(): Muestra los datos de la cuenta.  ingresar(cantidad): se \n",
    "# ingresa una cantidad a la cuenta, si la cantidad introducida es negativa, no se hará nada.  retirar( retirar(cantidad): \n",
    "# se retira una cantidad a la cuenta. La cuenta puede estar en números rojos.\n",
    "\n",
    "class Persona:\n",
    "    def __init__(self, nombre=\"\", edad=None, dni=\"\"):\n",
    "        self.nombre = nombre\n",
    "        self.edad = edad\n",
    "        self.dni = dni\n",
    "    \n",
    "    # ... (otros métodos de la clase Persona)\n",
    "\n",
    "class Cuenta(Persona):\n",
    "    def __init__(self, titular, cantidad=0.00):\n",
    "        self.titular = titular\n",
    "        self.cantidad = cantidad\n",
    "    \n",
    "    def get_titular(self):\n",
    "        return self.titular\n",
    "    \n",
    "    def get_cantidad(self):\n",
    "        return self.cantidad\n",
    "    \n",
    "    def mostrar(self):\n",
    "        print(f'Titular: {titular.nombre}, DNI: {titular.dni}')\n",
    "        numero_formateado = f\"{self.cantidad:.2f}\"\n",
    "        print(\"Cantidad en la cuenta:\", numero_formateado)\n",
    "    \n",
    "    def ingresar(self, cantidad):\n",
    "        if cantidad > 0:\n",
    "            self.cantidad += cantidad\n",
    "    \n",
    "    def retirar(self, cantidad):\n",
    "        if cantidad > 0:\n",
    "            self.cantidad -= cantidad\n",
    "\n",
    "# Crear una instancia de la clase Persona\n",
    "titular = Persona(\"Juan\", 30, \"123456789\")\n",
    "# Crear una instancia de la clase Cuenta\n",
    "cuenta1 = Cuenta(titular, 1000.0)\n",
    "cuenta1.mostrar()\n",
    "\n",
    "cuenta1.ingresar(500)\n",
    "cuenta1.retirar(200)\n",
    "cuenta1.mostrar()\n",
    "\n"
   ]
  },
  {
   "cell_type": "code",
   "execution_count": 17,
   "metadata": {},
   "outputs": [
    {
     "name": "stdout",
     "output_type": "stream",
     "text": [
      "Titular: Juan, DNI: 123456789\n",
      "Cantidad en la cuenta: 500.00\n",
      "Bonificación: 5\n"
     ]
    },
    {
     "ename": "AttributeError",
     "evalue": "'Persona' object has no attribute 'es_mayor_de_edad'",
     "output_type": "error",
     "traceback": [
      "\u001b[1;31m---------------------------------------------------------------------------\u001b[0m",
      "\u001b[1;31mAttributeError\u001b[0m                            Traceback (most recent call last)",
      "\u001b[1;32mc:\\GBerton2023\\CodoACodo\\DJango\\Django23655\\Codo-a-codo-Django-23655\\Integracion\\Teste.ipynb Celda 8\u001b[0m in \u001b[0;36m<cell line: 39>\u001b[1;34m()\u001b[0m\n\u001b[0;32m     <a href='vscode-notebook-cell:/c%3A/GBerton2023/CodoACodo/DJango/Django23655/Codo-a-codo-Django-23655/Integracion/Teste.ipynb#X10sZmlsZQ%3D%3D?line=36'>37</a>\u001b[0m \u001b[39m# Crear una instancia de la clase CuentaJoven\u001b[39;00m\n\u001b[0;32m     <a href='vscode-notebook-cell:/c%3A/GBerton2023/CodoACodo/DJango/Django23655/Codo-a-codo-Django-23655/Integracion/Teste.ipynb#X10sZmlsZQ%3D%3D?line=37'>38</a>\u001b[0m cuenta_joven \u001b[39m=\u001b[39m CuentaJoven(titular_joven, \u001b[39m500.0\u001b[39m, \u001b[39m5\u001b[39m)\n\u001b[1;32m---> <a href='vscode-notebook-cell:/c%3A/GBerton2023/CodoACodo/DJango/Django23655/Codo-a-codo-Django-23655/Integracion/Teste.ipynb#X10sZmlsZQ%3D%3D?line=38'>39</a>\u001b[0m cuenta_joven\u001b[39m.\u001b[39;49mmostrar()\n\u001b[0;32m     <a href='vscode-notebook-cell:/c%3A/GBerton2023/CodoACodo/DJango/Django23655/Codo-a-codo-Django-23655/Integracion/Teste.ipynb#X10sZmlsZQ%3D%3D?line=40'>41</a>\u001b[0m cuenta_joven\u001b[39m.\u001b[39mingresar(\u001b[39m200\u001b[39m)\n\u001b[0;32m     <a href='vscode-notebook-cell:/c%3A/GBerton2023/CodoACodo/DJango/Django23655/Codo-a-codo-Django-23655/Integracion/Teste.ipynb#X10sZmlsZQ%3D%3D?line=41'>42</a>\u001b[0m cuenta_joven\u001b[39m.\u001b[39mretirar(\u001b[39m50\u001b[39m)\n",
      "\u001b[1;32mc:\\GBerton2023\\CodoACodo\\DJango\\Django23655\\Codo-a-codo-Django-23655\\Integracion\\Teste.ipynb Celda 8\u001b[0m in \u001b[0;36mCuentaJoven.mostrar\u001b[1;34m(self)\u001b[0m\n\u001b[0;32m     <a href='vscode-notebook-cell:/c%3A/GBerton2023/CodoACodo/DJango/Django23655/Codo-a-codo-Django-23655/Integracion/Teste.ipynb#X10sZmlsZQ%3D%3D?line=30'>31</a>\u001b[0m \u001b[39msuper\u001b[39m()\u001b[39m.\u001b[39mmostrar()\n\u001b[0;32m     <a href='vscode-notebook-cell:/c%3A/GBerton2023/CodoACodo/DJango/Django23655/Codo-a-codo-Django-23655/Integracion/Teste.ipynb#X10sZmlsZQ%3D%3D?line=31'>32</a>\u001b[0m \u001b[39mprint\u001b[39m(\u001b[39m\"\u001b[39m\u001b[39mBonificación:\u001b[39m\u001b[39m\"\u001b[39m, \u001b[39mself\u001b[39m\u001b[39m.\u001b[39mbonificacion)\n\u001b[1;32m---> <a href='vscode-notebook-cell:/c%3A/GBerton2023/CodoACodo/DJango/Django23655/Codo-a-codo-Django-23655/Integracion/Teste.ipynb#X10sZmlsZQ%3D%3D?line=32'>33</a>\u001b[0m \u001b[39mprint\u001b[39m(\u001b[39m\"\u001b[39m\u001b[39mTitular válido:\u001b[39m\u001b[39m\"\u001b[39m, \u001b[39mself\u001b[39;49m\u001b[39m.\u001b[39;49mes_titular_valido())\n",
      "\u001b[1;32mc:\\GBerton2023\\CodoACodo\\DJango\\Django23655\\Codo-a-codo-Django-23655\\Integracion\\Teste.ipynb Celda 8\u001b[0m in \u001b[0;36mCuentaJoven.es_titular_valido\u001b[1;34m(self)\u001b[0m\n\u001b[0;32m     <a href='vscode-notebook-cell:/c%3A/GBerton2023/CodoACodo/DJango/Django23655/Codo-a-codo-Django-23655/Integracion/Teste.ipynb#X10sZmlsZQ%3D%3D?line=20'>21</a>\u001b[0m \u001b[39mdef\u001b[39;00m \u001b[39mes_titular_valido\u001b[39m(\u001b[39mself\u001b[39m):\n\u001b[1;32m---> <a href='vscode-notebook-cell:/c%3A/GBerton2023/CodoACodo/DJango/Django23655/Codo-a-codo-Django-23655/Integracion/Teste.ipynb#X10sZmlsZQ%3D%3D?line=21'>22</a>\u001b[0m     \u001b[39mreturn\u001b[39;00m \u001b[39mself\u001b[39;49m\u001b[39m.\u001b[39;49mtitular\u001b[39m.\u001b[39;49mes_mayor_de_edad() \u001b[39mand\u001b[39;00m \u001b[39mself\u001b[39m\u001b[39m.\u001b[39mtitular\u001b[39m.\u001b[39mget_edad() \u001b[39m<\u001b[39m \u001b[39m25\u001b[39m\n",
      "\u001b[1;31mAttributeError\u001b[0m: 'Persona' object has no attribute 'es_mayor_de_edad'"
     ]
    }
   ],
   "source": [
    "# Ejecicio 8 - Vamos a definir ahora una “Cuenta Joven”, para ello vamos a crear una nueva clase\n",
    "# CuantaJoven que deriva de la clase creada en el punto 7. Cuando se crea esta nueva clase, además del titular\n",
    "# y la cantidad se debe guardar una bonificación que estará expresada en tanto por ciento. Crear los siguientes\n",
    "# métodos para la clase:  Un constructor.  Los setters y getters para el nuevo atributo.  En esta ocasión los\n",
    "# titulares de este tipo de cuenta tienen que ser mayor de edad, por lo tanto hay que crear un método es_titular_valido() \n",
    "# que devuelve verdadero si el titular es mayor de edad pero menor de 25 años y falso en caso contrario. \n",
    "#  Además, la retirada de dinero sólo se podrá hacer si el titular\n",
    "# es válido.  El métod\n",
    "\n",
    "class CuentaJoven(Cuenta):\n",
    "    def __init__(self, titular, cantidad=0.0, bonificacion=0):\n",
    "        super().__init__(titular, cantidad)\n",
    "        self.bonificacion = bonificacion\n",
    "    \n",
    "    def get_bonificacion(self):\n",
    "        return self.bonificacion\n",
    "    \n",
    "    def set_bonificacion(self, bonificacion):\n",
    "        self.bonificacion = bonificacion\n",
    "    \n",
    "    def es_titular_valido(self):\n",
    "        return self.titular.es_mayor_de_edad() and self.titular.get_edad() < 25\n",
    "    \n",
    "    def retirar(self, cantidad):\n",
    "        if self.es_titular_valido():\n",
    "            super().retirar(cantidad)\n",
    "        else:\n",
    "            print(\"No se puede retirar dinero. Titular no válido.\")\n",
    "    \n",
    "    def mostrar(self):\n",
    "        super().mostrar()\n",
    "        print(\"Bonificación:\", self.bonificacion)\n",
    "        print(\"Titular válido:\", self.es_titular_valido())\n",
    "\n",
    "# Crear una instancia de la clase Persona para el titular de la cuenta joven\n",
    "titular_joven = Persona(\"Ana\", 22, \"987654321\")\n",
    "# Crear una instancia de la clase CuentaJoven\n",
    "cuenta_joven = CuentaJoven(titular_joven, 500.0, 5)\n",
    "cuenta_joven.mostrar()\n",
    "\n",
    "cuenta_joven.ingresar(200)\n",
    "cuenta_joven.retirar(50)\n",
    "cuenta_joven.mostrar()\n"
   ]
  }
 ],
 "metadata": {
  "kernelspec": {
   "display_name": "Python 3",
   "language": "python",
   "name": "python3"
  },
  "language_info": {
   "codemirror_mode": {
    "name": "ipython",
    "version": 3
   },
   "file_extension": ".py",
   "mimetype": "text/x-python",
   "name": "python",
   "nbconvert_exporter": "python",
   "pygments_lexer": "ipython3",
   "version": "3.10.5"
  },
  "orig_nbformat": 4
 },
 "nbformat": 4,
 "nbformat_minor": 2
}
